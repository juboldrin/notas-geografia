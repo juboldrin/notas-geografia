{
  "nbformat": 4,
  "nbformat_minor": 0,
  "metadata": {
    "colab": {
      "name": "notas_de_geografia.ipynb",
      "provenance": []
    },
    "kernelspec": {
      "name": "python3",
      "display_name": "Python 3"
    },
    "language_info": {
      "name": "python"
    }
  },
  "cells": [
    {
      "cell_type": "markdown",
      "metadata": {
        "id": "a_pq7fGYHI6Z"
      },
      "source": [
        "# Geração de sequência aleatória de notas"
      ]
    },
    {
      "cell_type": "code",
      "metadata": {
        "id": "6fq4FDisIelR"
      },
      "source": [
        "from random import randrange, seed"
      ],
      "execution_count": 2,
      "outputs": []
    },
    {
      "cell_type": "code",
      "metadata": {
        "id": "Xkm8lDW7IbhW"
      },
      "source": [
        "seed(10)"
      ],
      "execution_count": 3,
      "outputs": []
    },
    {
      "cell_type": "code",
      "metadata": {
        "colab": {
          "base_uri": "https://localhost:8080/"
        },
        "id": "STEPtqzwIoXV",
        "outputId": "92a90363-a552-436c-8278-20ed9a01af9c"
      },
      "source": [
        "randrange(0,11)"
      ],
      "execution_count": 4,
      "outputs": [
        {
          "output_type": "execute_result",
          "data": {
            "text/plain": [
              "9"
            ]
          },
          "metadata": {},
          "execution_count": 4
        }
      ]
    },
    {
      "cell_type": "code",
      "metadata": {
        "colab": {
          "base_uri": "https://localhost:8080/"
        },
        "id": "Q7UZDfmOIvc9",
        "outputId": "fedeaa9b-df42-41a0-c4a7-a76e50620bfd"
      },
      "source": [
        "notas_geografia = []\n",
        "\n",
        "for notas in range(8):\n",
        "  notas_geografia.append(randrange(0,11))\n",
        "\n",
        "notas_geografia"
      ],
      "execution_count": 6,
      "outputs": [
        {
          "output_type": "execute_result",
          "data": {
            "text/plain": [
              "[4, 10, 2, 0, 8, 7, 5, 1]"
            ]
          },
          "metadata": {},
          "execution_count": 6
        }
      ]
    },
    {
      "cell_type": "code",
      "metadata": {
        "colab": {
          "base_uri": "https://localhost:8080/"
        },
        "id": "QUssrTx9LIjS",
        "outputId": "556df2c2-b579-4b39-9361-1036cd223f6e"
      },
      "source": [
        "len(notas_geografia)"
      ],
      "execution_count": 7,
      "outputs": [
        {
          "output_type": "execute_result",
          "data": {
            "text/plain": [
              "8"
            ]
          },
          "metadata": {},
          "execution_count": 7
        }
      ]
    },
    {
      "cell_type": "code",
      "metadata": {
        "id": "jPNbgcwaMHUu"
      },
      "source": [
        "import matplotlib.pyplot as plt"
      ],
      "execution_count": 8,
      "outputs": []
    },
    {
      "cell_type": "code",
      "metadata": {
        "colab": {
          "base_uri": "https://localhost:8080/",
          "height": 295
        },
        "id": "gZKefmgGMJT-",
        "outputId": "9eec21c1-d6e5-4272-8be2-fc36f8c7f641"
      },
      "source": [
        "x = list(range(1,9))\n",
        "y = notas_geografia\n",
        "plt.plot(x, y, marker='o')\n",
        "plt.title('Notas de Geografia')\n",
        "plt.xlabel('Provas')\n",
        "plt.ylabel('Notas')\n",
        "plt.show()"
      ],
      "execution_count": 10,
      "outputs": [
        {
          "output_type": "display_data",
          "data": {
            "image/png": "[encoded data removed]",
            "text/plain": [
              "<Figure size 432x288 with 1 Axes>"
            ]
          },
          "metadata": {
            "needs_background": "light"
          }
        }
      ]
    },
    {
      "cell_type": "code",
      "metadata": {
        "colab": {
          "base_uri": "https://localhost:8080/"
        },
        "id": "3PXkObDYMJd9",
        "outputId": "ade56854-161c-4a8a-df62-06e5d4f3daeb"
      },
      "source": [
        "print(\"As notas do aluno ao decorrer dos 8 meses foram as seguintes: {}\".format(notas_geografia))"
      ],
      "execution_count": 11,
      "outputs": [
        {
          "output_type": "stream",
          "name": "stdout",
          "text": [
            "As notas do aluno ao decorrer dos 8 meses foram as seguintes: [4, 10, 2, 0, 8, 7, 5, 1]\n"
          ]
        }
      ]
    },
    {
      "cell_type": "code",
      "metadata": {
        "id": "9ZTB--PIMJg2"
      },
      "source": [
        ""
      ],
      "execution_count": null,
      "outputs": []
    },
    {
      "cell_type": "code",
      "metadata": {
        "id": "s-40Z0nYMJjb"
      },
      "source": [
        ""
      ],
      "execution_count": null,
      "outputs": []
    },
    {
      "cell_type": "code",
      "metadata": {
        "id": "oZrg6YUuMJmP"
      },
      "source": [
        ""
      ],
      "execution_count": null,
      "outputs": []
    }
  ]
}